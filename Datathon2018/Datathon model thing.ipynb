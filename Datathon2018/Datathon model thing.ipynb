{
 "cells": [
  {
   "cell_type": "code",
   "execution_count": 227,
   "metadata": {},
   "outputs": [],
   "source": [
    "import numpy as np\n",
    "import sklearn as sk\n",
    "from sklearn import datasets, linear_model\n",
    "from sklearn.metrics import mean_squared_error, r2_score\n",
    "import matplotlib.pyplot\n",
    "from pandas import DataFrame\n",
    "from sklearn import linear_model\n",
    "import tkinter as tk \n",
    "import matplotlib.pyplot as plt\n",
    "from matplotlib.backends.backend_tkagg import FigureCanvasTkAgg\n",
    "from sklearn import svm\n",
    "import pandas as pd\n",
    "from sklearn import neighbors\n",
    "import math\n",
    "from scipy.optimize import minimize"
   ]
  },
  {
   "cell_type": "code",
   "execution_count": 231,
   "metadata": {},
   "outputs": [],
   "source": [
    "bayerTest = pd.read_csv(r'C:\\Users\\anmol\\Documents\\Data\\BAYZF TEST.csv')\n",
    "bayerTrain = pd.read_csv(r'C:\\Users\\anmol\\Documents\\Data\\BAYZF TRAIN.csv')\n",
    "bayerFeatures = pd.read_csv(r'C:\\Users\\anmol\\Documents\\Data\\BAYER30d.csv')\n",
    "honeywellTest = [131.830002, 130.070007, 134.619995, 135.369995, 135.08999599999999, 135.720001, 137.75, 137.360001, 137.610001, 137.770004, 138.020004, 139.880005, 141.850006, 139.820007, 140.740005, 141.179993, 141.71000700000002, 140.479996, 141.740005, 143.279999, 143.630005, 144.71000700000002, 147.929993, 148.690002, 148.899994, 148.149994, 148.610001, 148.479996, 150.360001, 151.479996, 150.520004]\n",
    "honeywellTrain = pd.read_csv(r'C:\\Users\\anmol\\Documents\\Data\\HON.csv')\n",
    "honeywellFeatures = pd.read_csv(r'C:\\Users\\anmol\\Documents\\Data\\HONEYWELL30d.csv')\n",
    "m3Test = [190.949997, 183.759995, 191.320007, 190.880005, 191.679993, 192.300003, 193.600006, 192.21000700000002, 192.169998, 188.940002, 189.479996, 191.71000700000002, 195.860001, 192.259995, 192.28999299999998, 192.520004, 195.899994, 193.199997, 196.949997, 199.270004, 200.300003, 199.16000400000001, 200.21000700000002, 201.119995, 202.570007, 199.83999599999999, 199.820007, 200.91000400000001, 206.570007, 209.72000099999997, 204.929993]\n",
    "m3Train = pd.read_csv(r'C:\\Users\\anmol\\Documents\\Data\\MMM.csv')\n",
    "m3Features = pd.read_csv(r'C:\\Users\\anmol\\Documents\\Data\\3M30d.csv')\n",
    "syncTest = [24.27, 24.09, 25.24, 25.370001000000002, 25.42, 25.99, 25.75, 26.02, 25.85, 25.77, 26.379998999999998, 26.35, 26.280001000000002, 26.549999, 29.4, 29.809998999999998, 29.790001, 29.98, 29.65, 30.07, 30.040001, 29.690001000000002, 29.719998999999998, 29.99, 30.110001, 30.110001, 29.940001000000002, 30.370001000000002, 30.440001000000002, 30.77, 30.83]\n",
    "syncTrain = pd.read_csv(r'C:\\Users\\anmol\\Documents\\Data\\SYF.csv')\n",
    "syncFeatures = pd.read_csv(r'C:\\Users\\anmol\\Documents\\Data\\SYNC30d.csv')"
   ]
  },
  {
   "cell_type": "code",
   "execution_count": 300,
   "metadata": {},
   "outputs": [],
   "source": [
    "features = pd.DataFrame(syncFeatures, columns=['Date', 'close30d', 'earnings30d', 'comp130d', 'comp230d', 's&p30d'])\n",
    "#test = pd.DataFrame(bayerTest, columns=['Date', 'Close'])\n",
    "train = pd.DataFrame(syncTrain, columns=['Date', 'Close'])\n",
    "#features = pd.DataFrame(biogen, columns=['Date', 'Volume', 'Close'])"
   ]
  },
  {
   "cell_type": "code",
   "execution_count": 301,
   "metadata": {},
   "outputs": [],
   "source": [
    "X = features[['close30d','earnings30d', 'comp130d', 'comp230d', 's&p30d']]#, features[['Close']]\n",
    "Y = train[['Close']]\n"
   ]
  },
  {
   "cell_type": "code",
   "execution_count": 214,
   "metadata": {},
   "outputs": [],
   "source": [
    "\n",
    "#Y = Y.drop(Y.index[2456:2487])"
   ]
  },
  {
   "cell_type": "code",
   "execution_count": 328,
   "metadata": {},
   "outputs": [
    {
     "data": {
      "text/plain": [
       "Ridge(alpha=0.9, copy_X=True, fit_intercept=True, max_iter=None,\n",
       "   normalize=False, random_state=None, solver='auto', tol=0.001)"
      ]
     },
     "execution_count": 328,
     "metadata": {},
     "output_type": "execute_result"
    }
   ],
   "source": [
    "#optimum values of alpha for ridge and least angle regression generated using scipy.optimize to find minimum possible RMSE for each stock at each iteration\n",
    "lars = linear_model.LassoLars(alpha=.5)\n",
    "alphaBayerL = minimize(lars.fit(X, Y), x0, args=(alpha))\n",
    "\n",
    "\n",
    "reg = linear_model.Ridge(alpha=.9)\n",
    "alphaBayerR = minimize(reg.fit(X, Y), x0, args=(alpha))\n",
    "\n",
    "linreg = linear_model.LinearRegression()\n",
    "linreg.fit(X, Y)\n",
    "#bayreg = linear_model.BayesianRidge()\n",
    "#bayreg.fit(X, Y)\n",
    "lars = linear_model.LassoLars(alpha=alphaBayerL)\n",
    "lars.fit(X, Y)\n",
    "#clf = svm.SVR()\n",
    "#clf.fit(X, [Y, ]) \n",
    "#x = X['close30d'].tolist()\n",
    "#T = np.linspace(0, 5, 500)[:, np.newaxis]\n",
    "#knn = neighbors.KNeighborsRegressor(8, weights='distance')\n",
    "#y_ = knn.fit(X, Y).predict(T)\n",
    "reg = linear_model.Ridge(alpha=alphaBayerR)\n",
    "reg.fit(X, Y)\n"
   ]
  },
  {
   "cell_type": "code",
   "execution_count": 329,
   "metadata": {},
   "outputs": [
    {
     "name": "stdout",
     "output_type": "stream",
     "text": [
      "3.4934889955113597\n"
     ]
    },
    {
     "data": {
      "text/plain": [
       "[25.148890359815653,\n",
       " 25.160262232719308,\n",
       " 25.17161009006942,\n",
       " 25.18293398258296,\n",
       " 25.194233960869767,\n",
       " 25.20551007543282,\n",
       " 25.216762376668434,\n",
       " 25.227990914866503,\n",
       " 25.239195740210715,\n",
       " 25.250376902778772,\n",
       " 25.261534452542623,\n",
       " 25.27266843936869,\n",
       " 25.28377891301808,\n",
       " 25.29486592314681,\n",
       " 25.30592951930604,\n",
       " 25.316969750942274,\n",
       " 25.32798666739761,\n",
       " 25.33898031790993,\n",
       " 25.34995075161313,\n",
       " 25.360898017537355,\n",
       " 25.371822164609206,\n",
       " 25.382723241651945,\n",
       " 25.393601297385743,\n",
       " 25.404456380427877,\n",
       " 25.41528853929295,\n",
       " 25.4260978223931,\n",
       " 25.436884278038253,\n",
       " 25.447647954436288,\n",
       " 25.458388899693286,\n",
       " 25.46910716181373,\n",
       " 25.479802788700745]"
      ]
     },
     "execution_count": 329,
     "metadata": {},
     "output_type": "execute_result"
    }
   ],
   "source": [
    "predictionFeatures = X.iloc[-1].tolist()\n",
    "predictions = []\n",
    "for index, row in test.iterrows():\n",
    "    #print(row['Date'], linreg.predict([[row['Volume']]]))\n",
    "    predict = reg.predict([predictionFeatures])\n",
    "    predictions.append(predict[0][0]) #linear and ridge\n",
    "    #predictions.append(predict[0]) #lars\n",
    "    #print(predict)\n",
    "    oldavg = predictionFeatures[0]\n",
    "    #print(predictions[-1])\n",
    "    predictionFeatures[0] = ((oldavg * 30) + predictions[-1]) / 31\n",
    "   # print(row['Date'], bayreg.predict([[row['Volume']]]))\n",
    "    #print(row['Date'], lars.predict([[row['Volume']]]))\n",
    "#print(rmse(predictions, honeywellTest))\n",
    "print(math.sqrt(mean_squared_error(syncTest, predictions)))\n",
    "predictions"
   ]
  },
  {
   "cell_type": "code",
   "execution_count": 43,
   "metadata": {},
   "outputs": [],
   "source": [
    "def rmse(predictions, targets):\n",
    "    return np.sqrt(((predictions - targets) ** 2).mean())"
   ]
  },
  {
   "cell_type": "code",
   "execution_count": null,
   "metadata": {},
   "outputs": [],
   "source": [
    "\n"
   ]
  },
  {
   "cell_type": "code",
   "execution_count": 78,
   "metadata": {},
   "outputs": [],
   "source": [
    "# function that generates the feature csv for every 30 days RUN SEPERATLY FOR EACH OF THE 4 COMPANIES WITH MODIEFIED LISTS FOR THE DIFFERENT FEATURES BETWEEN THEM ALL\n",
    "\n",
    "data = pd.read_csv(r'C:\\Users\\anmol\\Documents\\Data\\SYNCSVRAW.csv')\n",
    "\n",
    "vollist = data['Volume']\n",
    "closelist = data['Close']\n",
    "earlist = data['10k Earnings Sentiment']\n",
    "comp1list = data['Comp 1']\n",
    "comp2list = data['Comp 2']\n",
    "splist = data['S&P Price Change']\n",
    "dates = data['Date']\n",
    "\n",
    "vol = []\n",
    "date = []\n",
    "closed = []\n",
    "ear = []\n",
    "comp1 = []\n",
    "comp2 = []\n",
    "sp = []\n",
    "for i in range(len(closelist)):\n",
    "    if i > 30:\n",
    "        date.append(dates[i])\n",
    "        vol.append(sum(vollist[i-30:i]) / float(30))\n",
    "        closed.append(sum(closelist[i-30:i]) / float(30))\n",
    "        ear.append(sum(earlist[i-30:i]) / float(30))\n",
    "        comp1.append(sum(comp1list[i-30:i]) / float(30))\n",
    "        comp2.append(sum(comp2list[i-30:i]) / float(30))\n",
    "        sp.append(sum(splist[i-30:i]) / float(30))\n",
    "    #else:\n",
    "        #closed.append(0)\n",
    "        #ear.append(0)\n",
    "        #comp1.append(0)\n",
    "        #comp2.append(0)\n",
    "        #euro.append(0)\n",
    "\n",
    "done = pd.DataFrame({'Date': date, 'close30d':closed, 'earnings30d': ear, 'comp130d': comp1, 'comp230d': comp2, 's&p30d': sp})\n",
    "\n",
    "done.to_csv(r'C:\\Users\\anmol\\Documents\\Data\\SYNC30d.csv')"
   ]
  },
  {
   "cell_type": "code",
   "execution_count": null,
   "metadata": {},
   "outputs": [],
   "source": []
  },
  {
   "cell_type": "code",
   "execution_count": null,
   "metadata": {},
   "outputs": [],
   "source": []
  }
 ],
 "metadata": {
  "kernelspec": {
   "display_name": "Python 3",
   "language": "python",
   "name": "python3"
  },
  "language_info": {
   "codemirror_mode": {
    "name": "ipython",
    "version": 3
   },
   "file_extension": ".py",
   "mimetype": "text/x-python",
   "name": "python",
   "nbconvert_exporter": "python",
   "pygments_lexer": "ipython3",
   "version": "3.6.5"
  }
 },
 "nbformat": 4,
 "nbformat_minor": 2
}
